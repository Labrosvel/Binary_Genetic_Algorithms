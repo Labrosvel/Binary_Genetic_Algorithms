{
 "cells": [
  {
   "cell_type": "markdown",
   "metadata": {},
   "source": [
    "# APPENDIX"
   ]
  },
  {
   "cell_type": "markdown",
   "metadata": {},
   "source": [
    "# Nature Inspired Learning Algorithms - Assignement 1"
   ]
  },
  {
   "cell_type": "markdown",
   "metadata": {},
   "source": [
    "#### Important note: For the purpose of Q1, Jupyter notebook has been incorporated only for purposes of accuracy, time-saving calculations and reliability. The python code can be ignored for the assessment of this coursework."
   ]
  },
  {
   "cell_type": "markdown",
   "metadata": {},
   "source": [
    "## Q1. Binary Genetic Algorithm by Hand"
   ]
  },
  {
   "cell_type": "code",
   "execution_count": 1,
   "metadata": {},
   "outputs": [],
   "source": [
    "# a. 7-digits of ID along with 8-digit number\n",
    "import numpy as np\n",
    "import pandas as pd\n",
    "s1,s2,s3,s4,s5,s6,s7,b1,b2 = 2,0,1,0,2,8,9,2,7"
   ]
  },
  {
   "cell_type": "code",
   "execution_count": 2,
   "metadata": {},
   "outputs": [],
   "source": [
    "# b. Cost function\n",
    "def f(x,y):\n",
    "    return -(s2+s3)*x**2+(s4+s5)*x*y-(s6+s7)*y**2-(b1+b2)"
   ]
  },
  {
   "cell_type": "markdown",
   "metadata": {},
   "source": [
    "### c) Population Initialisation"
   ]
  },
  {
   "cell_type": "code",
   "execution_count": 3,
   "metadata": {},
   "outputs": [],
   "source": [
    "# c. Decoded x and y\n",
    "dec_x = np.array([s2,s4,s6,b1,s3,s5,s7,b2])\n",
    "x=-2+dec_x*28/31\n",
    "dec_y = np.array([s3,s5,s7,b2,s2,s4,s6,b1])\n",
    "y=-2+dec_y*28/31"
   ]
  },
  {
   "cell_type": "code",
   "execution_count": 4,
   "metadata": {},
   "outputs": [],
   "source": [
    "Cost = np.zeros(8)\n",
    "for i in range(8):\n",
    "    Cost[i]+=(f(x[i],y[i]))\n",
    "Chromosome = ['0000000001', '0000000010', '0100001001', '0001000111', '0000100000', '0001000000', '0100101000', '0011100010']\n",
    "n = np.arange(9)[1:,]"
   ]
  },
  {
   "cell_type": "code",
   "execution_count": 5,
   "metadata": {},
   "outputs": [
    {
     "data": {
      "text/html": [
       "<div>\n",
       "<style scoped>\n",
       "    .dataframe tbody tr th:only-of-type {\n",
       "        vertical-align: middle;\n",
       "    }\n",
       "\n",
       "    .dataframe tbody tr th {\n",
       "        vertical-align: top;\n",
       "    }\n",
       "\n",
       "    .dataframe thead th {\n",
       "        text-align: right;\n",
       "    }\n",
       "</style>\n",
       "<table border=\"1\" class=\"dataframe\">\n",
       "  <thead>\n",
       "    <tr style=\"text-align: right;\">\n",
       "      <th></th>\n",
       "      <th>n</th>\n",
       "      <th>Chromosome</th>\n",
       "      <th>decoded_x</th>\n",
       "      <th>decoded_y</th>\n",
       "      <th>Cost</th>\n",
       "    </tr>\n",
       "  </thead>\n",
       "  <tbody>\n",
       "    <tr>\n",
       "      <th>0</th>\n",
       "      <td>1</td>\n",
       "      <td>0000000001</td>\n",
       "      <td>-2.000000</td>\n",
       "      <td>-1.096774</td>\n",
       "      <td>-29.062435</td>\n",
       "    </tr>\n",
       "    <tr>\n",
       "      <th>1</th>\n",
       "      <td>2</td>\n",
       "      <td>0000000010</td>\n",
       "      <td>-2.000000</td>\n",
       "      <td>-0.193548</td>\n",
       "      <td>-12.862643</td>\n",
       "    </tr>\n",
       "    <tr>\n",
       "      <th>2</th>\n",
       "      <td>3</td>\n",
       "      <td>0100001001</td>\n",
       "      <td>5.225806</td>\n",
       "      <td>6.129032</td>\n",
       "      <td>-610.856400</td>\n",
       "    </tr>\n",
       "    <tr>\n",
       "      <th>3</th>\n",
       "      <td>4</td>\n",
       "      <td>0001000111</td>\n",
       "      <td>-0.193548</td>\n",
       "      <td>4.322581</td>\n",
       "      <td>-328.350676</td>\n",
       "    </tr>\n",
       "    <tr>\n",
       "      <th>4</th>\n",
       "      <td>5</td>\n",
       "      <td>0000100000</td>\n",
       "      <td>-1.096774</td>\n",
       "      <td>-2.000000</td>\n",
       "      <td>-73.815817</td>\n",
       "    </tr>\n",
       "    <tr>\n",
       "      <th>5</th>\n",
       "      <td>6</td>\n",
       "      <td>0001000000</td>\n",
       "      <td>-0.193548</td>\n",
       "      <td>-2.000000</td>\n",
       "      <td>-76.263267</td>\n",
       "    </tr>\n",
       "    <tr>\n",
       "      <th>6</th>\n",
       "      <td>7</td>\n",
       "      <td>0100101000</td>\n",
       "      <td>6.129032</td>\n",
       "      <td>5.225806</td>\n",
       "      <td>-446.760666</td>\n",
       "    </tr>\n",
       "    <tr>\n",
       "      <th>7</th>\n",
       "      <td>8</td>\n",
       "      <td>0011100010</td>\n",
       "      <td>4.322581</td>\n",
       "      <td>-0.193548</td>\n",
       "      <td>-29.994797</td>\n",
       "    </tr>\n",
       "  </tbody>\n",
       "</table>\n",
       "</div>"
      ],
      "text/plain": [
       "   n  Chromosome  decoded_x  decoded_y        Cost\n",
       "0  1  0000000001  -2.000000  -1.096774  -29.062435\n",
       "1  2  0000000010  -2.000000  -0.193548  -12.862643\n",
       "2  3  0100001001   5.225806   6.129032 -610.856400\n",
       "3  4  0001000111  -0.193548   4.322581 -328.350676\n",
       "4  5  0000100000  -1.096774  -2.000000  -73.815817\n",
       "5  6  0001000000  -0.193548  -2.000000  -76.263267\n",
       "6  7  0100101000   6.129032   5.225806 -446.760666\n",
       "7  8  0011100010   4.322581  -0.193548  -29.994797"
      ]
     },
     "execution_count": 5,
     "metadata": {},
     "output_type": "execute_result"
    }
   ],
   "source": [
    "# Formulating the population\n",
    "data = {'n': n,'Chromosome':Chromosome, 'decoded_x':x, 'decoded_y':y, 'Cost':Cost }\n",
    "population = pd.DataFrame(data)\n",
    "population"
   ]
  },
  {
   "cell_type": "markdown",
   "metadata": {},
   "source": [
    "### d) Natural Selection"
   ]
  },
  {
   "cell_type": "code",
   "execution_count": 6,
   "metadata": {},
   "outputs": [
    {
     "data": {
      "text/html": [
       "<div>\n",
       "<style scoped>\n",
       "    .dataframe tbody tr th:only-of-type {\n",
       "        vertical-align: middle;\n",
       "    }\n",
       "\n",
       "    .dataframe tbody tr th {\n",
       "        vertical-align: top;\n",
       "    }\n",
       "\n",
       "    .dataframe thead th {\n",
       "        text-align: right;\n",
       "    }\n",
       "</style>\n",
       "<table border=\"1\" class=\"dataframe\">\n",
       "  <thead>\n",
       "    <tr style=\"text-align: right;\">\n",
       "      <th></th>\n",
       "      <th>n</th>\n",
       "      <th>Chromosome</th>\n",
       "      <th>decoded_x</th>\n",
       "      <th>decoded_y</th>\n",
       "      <th>Cost</th>\n",
       "    </tr>\n",
       "  </thead>\n",
       "  <tbody>\n",
       "    <tr>\n",
       "      <th>0</th>\n",
       "      <td>1</td>\n",
       "      <td>0100001001</td>\n",
       "      <td>5.225806</td>\n",
       "      <td>6.129032</td>\n",
       "      <td>-610.856400</td>\n",
       "    </tr>\n",
       "    <tr>\n",
       "      <th>1</th>\n",
       "      <td>2</td>\n",
       "      <td>0100101000</td>\n",
       "      <td>6.129032</td>\n",
       "      <td>5.225806</td>\n",
       "      <td>-446.760666</td>\n",
       "    </tr>\n",
       "    <tr>\n",
       "      <th>2</th>\n",
       "      <td>3</td>\n",
       "      <td>0001000111</td>\n",
       "      <td>-0.193548</td>\n",
       "      <td>4.322581</td>\n",
       "      <td>-328.350676</td>\n",
       "    </tr>\n",
       "    <tr>\n",
       "      <th>3</th>\n",
       "      <td>4</td>\n",
       "      <td>0001000000</td>\n",
       "      <td>-0.193548</td>\n",
       "      <td>-2.000000</td>\n",
       "      <td>-76.263267</td>\n",
       "    </tr>\n",
       "  </tbody>\n",
       "</table>\n",
       "</div>"
      ],
      "text/plain": [
       "   n  Chromosome  decoded_x  decoded_y        Cost\n",
       "0  1  0100001001   5.225806   6.129032 -610.856400\n",
       "1  2  0100101000   6.129032   5.225806 -446.760666\n",
       "2  3  0001000111  -0.193548   4.322581 -328.350676\n",
       "3  4  0001000000  -0.193548  -2.000000  -76.263267"
      ]
     },
     "execution_count": 6,
     "metadata": {},
     "output_type": "execute_result"
    }
   ],
   "source": [
    "Nkeep = 4\n",
    "nat_sel5=population.sort_values(by=['Cost']).head(5) #sorting\n",
    "nat_sel5 = nat_sel5.reset_index(drop=True) #reseting index from 0\n",
    "nat_sel5['n']=n[0:5] # Filter top 5 chromosomes\n",
    "nat_sel4 = nat_sel5[nat_sel5.n<Nkeep+1] # Choosing top 4 chromosomes for this sections\n",
    "nat_sel4"
   ]
  },
  {
   "cell_type": "markdown",
   "metadata": {},
   "source": [
    "### e) Cost weighting"
   ]
  },
  {
   "cell_type": "code",
   "execution_count": 7,
   "metadata": {
    "collapsed": true
   },
   "outputs": [
    {
     "name": "stderr",
     "output_type": "stream",
     "text": [
      "C:\\Users\\labros\\anaconda3a\\lib\\site-packages\\ipykernel_launcher.py:2: SettingWithCopyWarning: \n",
      "A value is trying to be set on a copy of a slice from a DataFrame.\n",
      "Try using .loc[row_indexer,col_indexer] = value instead\n",
      "\n",
      "See the caveats in the documentation: https://pandas.pydata.org/pandas-docs/stable/user_guide/indexing.html#returning-a-view-versus-a-copy\n",
      "  \n",
      "C:\\Users\\labros\\anaconda3a\\lib\\site-packages\\ipykernel_launcher.py:3: SettingWithCopyWarning: \n",
      "A value is trying to be set on a copy of a slice from a DataFrame.\n",
      "Try using .loc[row_indexer,col_indexer] = value instead\n",
      "\n",
      "See the caveats in the documentation: https://pandas.pydata.org/pandas-docs/stable/user_guide/indexing.html#returning-a-view-versus-a-copy\n",
      "  This is separate from the ipykernel package so we can avoid doing imports until\n",
      "C:\\Users\\labros\\anaconda3a\\lib\\site-packages\\ipykernel_launcher.py:4: SettingWithCopyWarning: \n",
      "A value is trying to be set on a copy of a slice from a DataFrame.\n",
      "Try using .loc[row_indexer,col_indexer] = value instead\n",
      "\n",
      "See the caveats in the documentation: https://pandas.pydata.org/pandas-docs/stable/user_guide/indexing.html#returning-a-view-versus-a-copy\n",
      "  after removing the cwd from sys.path.\n"
     ]
    }
   ],
   "source": [
    "c5 = nat_sel5['Cost'][4] # 5th chromosome 'Nkeep+1'\n",
    "nat_sel4['Cn=cn-c(Nkeep-1)']=nat_sel4['Cost']-c5 #adding Cn column\n",
    "nat_sel4['Pn']=nat_sel4['Cn=cn-c(Nkeep-1)']/nat_sel4['Cn=cn-c(Nkeep-1)'].sum() # adding Pn column\n",
    "nat_sel4['ΣPn']=nat_sel4['Pn'].cumsum() # adding cumsum column"
   ]
  },
  {
   "cell_type": "code",
   "execution_count": 8,
   "metadata": {},
   "outputs": [
    {
     "data": {
      "text/html": [
       "<div>\n",
       "<style scoped>\n",
       "    .dataframe tbody tr th:only-of-type {\n",
       "        vertical-align: middle;\n",
       "    }\n",
       "\n",
       "    .dataframe tbody tr th {\n",
       "        vertical-align: top;\n",
       "    }\n",
       "\n",
       "    .dataframe thead th {\n",
       "        text-align: right;\n",
       "    }\n",
       "</style>\n",
       "<table border=\"1\" class=\"dataframe\">\n",
       "  <thead>\n",
       "    <tr style=\"text-align: right;\">\n",
       "      <th></th>\n",
       "      <th>n</th>\n",
       "      <th>Chromosome</th>\n",
       "      <th>decoded_x</th>\n",
       "      <th>decoded_y</th>\n",
       "      <th>Cost</th>\n",
       "      <th>Cn=cn-c(Nkeep-1)</th>\n",
       "      <th>Pn</th>\n",
       "      <th>ΣPn</th>\n",
       "    </tr>\n",
       "  </thead>\n",
       "  <tbody>\n",
       "    <tr>\n",
       "      <th>0</th>\n",
       "      <td>1</td>\n",
       "      <td>0100001001</td>\n",
       "      <td>5.225806</td>\n",
       "      <td>6.129032</td>\n",
       "      <td>-610.856400</td>\n",
       "      <td>-537.040583</td>\n",
       "      <td>0.460202</td>\n",
       "      <td>0.460202</td>\n",
       "    </tr>\n",
       "    <tr>\n",
       "      <th>1</th>\n",
       "      <td>2</td>\n",
       "      <td>0100101000</td>\n",
       "      <td>6.129032</td>\n",
       "      <td>5.225806</td>\n",
       "      <td>-446.760666</td>\n",
       "      <td>-372.944849</td>\n",
       "      <td>0.319585</td>\n",
       "      <td>0.779786</td>\n",
       "    </tr>\n",
       "    <tr>\n",
       "      <th>2</th>\n",
       "      <td>3</td>\n",
       "      <td>0001000111</td>\n",
       "      <td>-0.193548</td>\n",
       "      <td>4.322581</td>\n",
       "      <td>-328.350676</td>\n",
       "      <td>-254.534860</td>\n",
       "      <td>0.218116</td>\n",
       "      <td>0.997903</td>\n",
       "    </tr>\n",
       "    <tr>\n",
       "      <th>3</th>\n",
       "      <td>4</td>\n",
       "      <td>0001000000</td>\n",
       "      <td>-0.193548</td>\n",
       "      <td>-2.000000</td>\n",
       "      <td>-76.263267</td>\n",
       "      <td>-2.447451</td>\n",
       "      <td>0.002097</td>\n",
       "      <td>1.000000</td>\n",
       "    </tr>\n",
       "  </tbody>\n",
       "</table>\n",
       "</div>"
      ],
      "text/plain": [
       "   n  Chromosome  decoded_x  decoded_y        Cost  Cn=cn-c(Nkeep-1)  \\\n",
       "0  1  0100001001   5.225806   6.129032 -610.856400       -537.040583   \n",
       "1  2  0100101000   6.129032   5.225806 -446.760666       -372.944849   \n",
       "2  3  0001000111  -0.193548   4.322581 -328.350676       -254.534860   \n",
       "3  4  0001000000  -0.193548  -2.000000  -76.263267         -2.447451   \n",
       "\n",
       "         Pn       ΣPn  \n",
       "0  0.460202  0.460202  \n",
       "1  0.319585  0.779786  \n",
       "2  0.218116  0.997903  \n",
       "3  0.002097  1.000000  "
      ]
     },
     "execution_count": 8,
     "metadata": {},
     "output_type": "execute_result"
    }
   ],
   "source": [
    "nat_sel4"
   ]
  },
  {
   "cell_type": "markdown",
   "metadata": {},
   "source": [
    "### f) Crossover"
   ]
  },
  {
   "cell_type": "code",
   "execution_count": 9,
   "metadata": {},
   "outputs": [
    {
     "data": {
      "text/plain": [
       "(0.0, 1.0)"
      ]
     },
     "execution_count": 9,
     "metadata": {},
     "output_type": "execute_result"
    }
   ],
   "source": [
    "s2/(s2+s3+s4+s5+s6), 1-s2/(s2+s3+s4+s5+s6) #1st pair of parents"
   ]
  },
  {
   "cell_type": "code",
   "execution_count": 10,
   "metadata": {},
   "outputs": [
    {
     "data": {
      "text/plain": [
       "(0.5, 1.0)"
      ]
     },
     "execution_count": 10,
     "metadata": {},
     "output_type": "execute_result"
    }
   ],
   "source": [
    "(s2+s3)/2, (s4+s5)/2 # Cross-over points - take rounding to first integer"
   ]
  }
 ],
 "metadata": {
  "kernelspec": {
   "display_name": "Python 3",
   "language": "python",
   "name": "python3"
  },
  "language_info": {
   "codemirror_mode": {
    "name": "ipython",
    "version": 3
   },
   "file_extension": ".py",
   "mimetype": "text/x-python",
   "name": "python",
   "nbconvert_exporter": "python",
   "pygments_lexer": "ipython3",
   "version": "3.7.6"
  }
 },
 "nbformat": 4,
 "nbformat_minor": 4
}
